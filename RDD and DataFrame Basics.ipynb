{
 "cells": [
  {
   "cell_type": "code",
   "execution_count": null,
   "metadata": {
    "collapsed": false
   },
   "outputs": [],
   "source": [
    "// Get the input file for iris data\n",
    "val input = sc.textFile(\"wasb:///iris-multiclass.csv\")\n",
    "input.count()"
   ]
  },
  {
   "cell_type": "code",
   "execution_count": null,
   "metadata": {
    "collapsed": false
   },
   "outputs": [],
   "source": [
    "// Get the first line of data\n",
    "input.first()"
   ]
  },
  {
   "cell_type": "code",
   "execution_count": null,
   "metadata": {
    "collapsed": false
   },
   "outputs": [],
   "source": [
    "val splitter = input.map(line => line.split(','))\n",
    "val num = splitter.map(line => (line(4), 1)).reduceByKey((a, b) => a + b);"
   ]
  },
  {
   "cell_type": "code",
   "execution_count": null,
   "metadata": {
    "collapsed": false
   },
   "outputs": [],
   "source": [
    "num.take(3)"
   ]
  },
  {
   "cell_type": "code",
   "execution_count": null,
   "metadata": {
    "collapsed": false
   },
   "outputs": [],
   "source": [
    "// Convert to dataframe\n",
    "import sqlContext.implicits._\n",
    "case class Iris(SepalLength : Double, SepalWidth : Double, PetalLength : Double, PetalWidth : Double, Species : String)\n",
    "val splitter = input.map(line => line.split(',')).map{ line => \n",
    "    Iris(line(0).toDouble, line(1).toDouble, line(2).toDouble, line(3).toDouble, line(4))\n",
    "    }\n",
    "val df = splitter.toDF()"
   ]
  },
  {
   "cell_type": "code",
   "execution_count": null,
   "metadata": {
    "collapsed": false
   },
   "outputs": [],
   "source": [
    "// Group by species \n",
    "df.groupBy(\"Species\").count().show()"
   ]
  },
  {
   "cell_type": "code",
   "execution_count": null,
   "metadata": {
    "collapsed": false
   },
   "outputs": [],
   "source": [
    "// Register temp table to enable a query \n",
    "df.registerTempTable(\"iris\")\n",
    "sqlContext.sql(\"SELECT Species, COUNT(Species) FROM iris GROUP BY Species\").show()"
   ]
  },
  {
   "cell_type": "code",
   "execution_count": null,
   "metadata": {
    "collapsed": true
   },
   "outputs": [],
   "source": []
  }
 ],
 "metadata": {
  "kernelspec": {
   "display_name": "Spark",
   "language": "",
   "name": "sparkkernel"
  },
  "language_info": {
   "mimetype": "text/x-scala",
   "name": "scala",
   "pygments_lexer": "scala"
  }
 },
 "nbformat": 4,
 "nbformat_minor": 0
}
