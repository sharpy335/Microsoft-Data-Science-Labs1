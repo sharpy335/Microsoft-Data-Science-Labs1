{
 "cells": [
  {
   "cell_type": "code",
   "execution_count": null,
   "metadata": {
    "collapsed": true
   },
   "outputs": [],
   "source": [
    "from pyspark.mllib.clustering import KMeans, KMeansModel\n",
    "from numpy import *\n",
    "from pyspark import SparkContext\n",
    "from pyspark.sql import SQLContext\n",
    "from pyspark.sql.types import *\n",
    "import matplotlib"
   ]
  },
  {
   "cell_type": "code",
   "execution_count": null,
   "metadata": {
    "collapsed": false
   },
   "outputs": [],
   "source": [
    "sc = SparkContext('yarn-client')\n",
    "input = sc.textFile('/iris-multiclass.csv')\n",
    "input.count()"
   ]
  },
  {
   "cell_type": "code",
   "execution_count": null,
   "metadata": {
    "collapsed": true
   },
   "outputs": [],
   "source": [
    "parsedData = input.map(lambda line: array([float(x) for x in line.split(',')[0:4]]))\n",
    "\n",
    "from pyspark.mllib.feature import PCA \n",
    "from pyspark.mllib.linalg import Vectors\n",
    "points = parsedData.map(lambda point : Vectors.dense(point[0:4]))\n",
    "pcamod = PCA(2).fit(points)\n",
    "transformed = pcamod.transform(points)"
   ]
  },
  {
   "cell_type": "code",
   "execution_count": null,
   "metadata": {
    "collapsed": false
   },
   "outputs": [],
   "source": [
    "clusters = KMeans.train(transformed, 3, maxIterations=10, runs=10, initializationMode=\"k-means||\")\n",
    "\n",
    "print(transformed.first())\n",
    "clusters.centers"
   ]
  },
  {
   "cell_type": "code",
   "execution_count": null,
   "metadata": {
    "collapsed": false
   },
   "outputs": [],
   "source": [
    "points = clusters.predict(transformed)\n",
    "tpoints = transformed.map(lambda point : (point.toArray()[0], point.toArray()[1], clusters.predict(point.toArray())))\n",
    "cluster0 = tpoints.filter(lambda cluster : cluster[2] == 0).map(lambda change : (change[0], change[1]))\n",
    "cluster1 = tpoints.filter(lambda cluster : cluster[2] == 1).map(lambda change : (change[0], change[1]))\n",
    "cluster2 = tpoints.filter(lambda cluster : cluster[2] == 2).map(lambda change : (change[0], change[1]))\n",
    "cluster2.first()"
   ]
  },
  {
   "cell_type": "code",
   "execution_count": null,
   "metadata": {
    "collapsed": true
   },
   "outputs": [],
   "source": [
    "import matplotlib.pyplot as plt\n",
    "x, y = zip(*transformed.collect())"
   ]
  },
  {
   "cell_type": "code",
   "execution_count": null,
   "metadata": {
    "collapsed": false
   },
   "outputs": [],
   "source": [
    "%pylab inline\n",
    "plt.scatter(*zip(*cluster0.collect()), color='c')\n",
    "plt.scatter(*zip(*cluster1.collect()), color='y')\n",
    "plt.scatter(*zip(*cluster2.collect()), color='g')\n",
    "x_center, y_center = zip(*clusters.centers)\n",
    "plt.scatter(x_center, y_center, marker='x', color='r')\n",
    "plt.show()"
   ]
  },
  {
   "cell_type": "code",
   "execution_count": null,
   "metadata": {
    "collapsed": true
   },
   "outputs": [],
   "source": []
  }
 ],
 "metadata": {
  "kernelspec": {
   "display_name": "Python 2",
   "language": "python",
   "name": "python2"
  },
  "language_info": {
   "codemirror_mode": {
    "name": "ipython",
    "version": 2
   },
   "file_extension": ".py",
   "mimetype": "text/x-python",
   "name": "python",
   "nbconvert_exporter": "python",
   "pygments_lexer": "ipython2",
   "version": "2.7.11"
  }
 },
 "nbformat": 4,
 "nbformat_minor": 0
}
